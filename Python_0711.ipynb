{
  "nbformat": 4,
  "nbformat_minor": 0,
  "metadata": {
    "colab": {
      "provenance": []
    },
    "kernelspec": {
      "name": "python3",
      "display_name": "Python 3"
    },
    "language_info": {
      "name": "python"
    }
  },
  "cells": [
    {
      "cell_type": "code",
      "execution_count": null,
      "metadata": {
        "colab": {
          "base_uri": "https://localhost:8080/"
        },
        "id": "mkwBBGN_zHoo",
        "outputId": "143893be-0a55-4411-ba0f-21b771c31a30"
      },
      "outputs": [
        {
          "output_type": "stream",
          "name": "stdout",
          "text": [
            "4\n",
            "****\n",
            "****\n",
            "****\n",
            "****\n"
          ]
        }
      ],
      "source": [
        "n=int(input())\n",
        "for i in range(n):\n",
        "    print(\"*\"*n)"
      ]
    },
    {
      "cell_type": "code",
      "source": [
        "n=4\n",
        "for i in range(n):\n",
        "    print(\" \"*i+\"*\"*n)"
      ],
      "metadata": {
        "colab": {
          "base_uri": "https://localhost:8080/"
        },
        "id": "s2oP5Qsy3WH_",
        "outputId": "21af6bf7-d646-4ab2-bb98-e8dbb7414689"
      },
      "execution_count": null,
      "outputs": [
        {
          "output_type": "stream",
          "name": "stdout",
          "text": [
            "****\n",
            " ****\n",
            "  ****\n",
            "   ****\n"
          ]
        }
      ]
    },
    {
      "cell_type": "code",
      "source": [
        "n=4\n",
        "for i in range(n):\n",
        "    print(\"\"*i+\"*\"*n)"
      ],
      "metadata": {
        "colab": {
          "base_uri": "https://localhost:8080/"
        },
        "id": "8pO8qoL635nb",
        "outputId": "af8a8f71-4a8e-4612-9028-b10d06bcec4e"
      },
      "execution_count": null,
      "outputs": [
        {
          "output_type": "stream",
          "name": "stdout",
          "text": [
            "****\n",
            "****\n",
            "****\n",
            "****\n"
          ]
        }
      ]
    },
    {
      "cell_type": "code",
      "source": [
        "for i in range(1, 6):\n",
        "    for j in range(5 - i):\n",
        "        print(\" \", end=\" \")\n",
        "    for k in range(i):\n",
        "        print(\"*\", end=\" \")\n",
        "    print()"
      ],
      "metadata": {
        "colab": {
          "base_uri": "https://localhost:8080/"
        },
        "id": "wFRpS2Af48oW",
        "outputId": "07f6a91f-4b18-4121-fa19-90de0c7a7902"
      },
      "execution_count": null,
      "outputs": [
        {
          "output_type": "stream",
          "name": "stdout",
          "text": [
            "        * \n",
            "      * * \n",
            "    * * * \n",
            "  * * * * \n",
            "* * * * * \n"
          ]
        }
      ]
    },
    {
      "cell_type": "code",
      "source": [
        "rows = 5\n",
        "for i in range(1, rows + 1):\n",
        "    print(' ' * (rows - i) + '*' * (2 * i - 1))\n",
        "for i in range(rows - 1, 0, -1):\n",
        "    print(' ' * (rows - i) + '*' * (2 * i - 1))"
      ],
      "metadata": {
        "id": "bSEhj4Az-I-M",
        "outputId": "a91500e1-5f17-4a06-a2c5-2c88c34ee504",
        "colab": {
          "base_uri": "https://localhost:8080/"
        }
      },
      "execution_count": null,
      "outputs": [
        {
          "output_type": "stream",
          "name": "stdout",
          "text": [
            "    *\n",
            "   ***\n",
            "  *****\n",
            " *******\n",
            "*********\n",
            " *******\n",
            "  *****\n",
            "   ***\n",
            "    *\n"
          ]
        }
      ]
    },
    {
      "cell_type": "code",
      "source": [
        "rows=4\n",
        "for i in range(4,rows+3):\n",
        "    for j in range(i+1):\n",
        "        print(j+1,end=\" \")\n",
        "    print()"
      ],
      "metadata": {
        "id": "eCAYqVZT-Lwd",
        "colab": {
          "base_uri": "https://localhost:8080/"
        },
        "outputId": "a4fa1557-a7b9-4b9b-9f08-c194bc870e19"
      },
      "execution_count": null,
      "outputs": [
        {
          "output_type": "stream",
          "name": "stdout",
          "text": [
            "1 2 3 4 5 \n",
            "1 2 3 4 5 6 \n",
            "1 2 3 4 5 6 7 \n"
          ]
        }
      ]
    },
    {
      "cell_type": "code",
      "source": [
        "n=4\n",
        "for i in range(n):\n",
        "    for j in range(i):\n",
        "        print(end=\"\")\n",
        "    for k in range(n):\n",
        "        print(\"*\",end=\"\")\n",
        "    print()"
      ],
      "metadata": {
        "colab": {
          "base_uri": "https://localhost:8080/"
        },
        "id": "8mCuskkTBPGa",
        "outputId": "0abf1361-f11e-4c28-f34a-a5211b5ec646"
      },
      "execution_count": null,
      "outputs": [
        {
          "output_type": "stream",
          "name": "stdout",
          "text": [
            "****\n",
            "****\n",
            "****\n",
            "****\n"
          ]
        }
      ]
    },
    {
      "cell_type": "code",
      "source": [
        "n=4\n",
        "for i in range(n+1):\n",
        "    for j in range(1,i+1):\n",
        "        print(\"*\",end=\" \")\n",
        "    print()"
      ],
      "metadata": {
        "colab": {
          "base_uri": "https://localhost:8080/"
        },
        "id": "w9XXgLm2CAy7",
        "outputId": "1896d923-4e07-4c26-d049-bf2be92a1428"
      },
      "execution_count": null,
      "outputs": [
        {
          "output_type": "stream",
          "name": "stdout",
          "text": [
            "\n",
            "* \n",
            "* * \n",
            "* * * \n",
            "* * * * \n"
          ]
        }
      ]
    },
    {
      "cell_type": "code",
      "source": [
        "for i in range(4):\n",
        "  for j in range(6):\n",
        "       print(\"*\",end=\"\")\n",
        "  print()"
      ],
      "metadata": {
        "colab": {
          "base_uri": "https://localhost:8080/"
        },
        "id": "nnXm5kIBDndQ",
        "outputId": "051e8026-fa54-4496-cddb-e4b58d43ed1a"
      },
      "execution_count": null,
      "outputs": [
        {
          "output_type": "stream",
          "name": "stdout",
          "text": [
            "******\n",
            "******\n",
            "******\n",
            "******\n"
          ]
        }
      ]
    },
    {
      "cell_type": "code",
      "source": [
        "n = 4\n",
        "for i in range(n):\n",
        "    for j in range(n):\n",
        "        if i == 0 or i == n - 1 or j == 0 or j == n - 1:\n",
        "            print(\"*\", end=\"\")\n",
        "        else:\n",
        "            print(\" \", end=\"\")\n",
        "    print()"
      ],
      "metadata": {
        "colab": {
          "base_uri": "https://localhost:8080/"
        },
        "id": "bfgY6s4wE0qi",
        "outputId": "14a9d23a-8382-4a16-c9d2-ac622b21bb7e"
      },
      "execution_count": null,
      "outputs": [
        {
          "output_type": "stream",
          "name": "stdout",
          "text": [
            "****\n",
            "*  *\n",
            "*  *\n",
            "****\n"
          ]
        }
      ]
    },
    {
      "cell_type": "code",
      "source": [],
      "metadata": {
        "id": "CE0j9BMXIePl"
      },
      "execution_count": null,
      "outputs": []
    }
  ]
}