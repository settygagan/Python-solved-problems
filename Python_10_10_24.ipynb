{
  "nbformat": 4,
  "nbformat_minor": 0,
  "metadata": {
    "colab": {
      "provenance": []
    },
    "kernelspec": {
      "name": "python3",
      "display_name": "Python 3"
    },
    "language_info": {
      "name": "python"
    }
  },
  "cells": [
    {
      "cell_type": "code",
      "execution_count": null,
      "metadata": {
        "id": "k0fzHiHFl3Ks"
      },
      "outputs": [],
      "source": [
        "0def fun():\n",
        "  print(\"Welcome to Python\")"
      ]
    },
    {
      "cell_type": "code",
      "source": [
        " fun()"
      ],
      "metadata": {
        "colab": {
          "base_uri": "https://localhost:8080/"
        },
        "id": "EeERCmRqnnm9",
        "outputId": "1f985f2e-799a-4d89-c93d-2adb33fa8033"
      },
      "execution_count": null,
      "outputs": [
        {
          "output_type": "stream",
          "name": "stdout",
          "text": [
            "Welcome to Python\n"
          ]
        }
      ]
    },
    {
      "cell_type": "code",
      "source": [
        "def arith(a,b):\n",
        "  print(a+b)\n",
        "  print(a-b)\n",
        "  print(a*b)\n",
        "  print(a/b)\n",
        "arith(1,4)"
      ],
      "metadata": {
        "colab": {
          "base_uri": "https://localhost:8080/"
        },
        "id": "qiCll-DZnwNf",
        "outputId": "c46056aa-784c-4d4a-8f07-24aed860a4c1"
      },
      "execution_count": null,
      "outputs": [
        {
          "output_type": "stream",
          "name": "stdout",
          "text": [
            "5\n",
            "-3\n",
            "4\n",
            "0.25\n"
          ]
        }
      ]
    },
    {
      "cell_type": "code",
      "source": [
        "def sum(n1,n2):\n",
        "    s=n1+n2\n",
        "    return s\n",
        "n1=int(input(\"enter a number\"))\n",
        "n2=int(input(\"enter a number\"))\n",
        "sum(n1,n2)"
      ],
      "metadata": {
        "colab": {
          "base_uri": "https://localhost:8080/"
        },
        "id": "oHT9nbj-oiOC",
        "outputId": "7c781add-4d50-4fae-9e02-c4da91334293"
      },
      "execution_count": null,
      "outputs": [
        {
          "name": "stdout",
          "output_type": "stream",
          "text": [
            "enter a number5\n",
            "enter a number3\n"
          ]
        },
        {
          "output_type": "execute_result",
          "data": {
            "text/plain": [
              "8"
            ]
          },
          "metadata": {},
          "execution_count": 16
        }
      ]
    },
    {
      "cell_type": "markdown",
      "source": [
        "#Add 2 numbers using lamda function.\n"
      ],
      "metadata": {
        "id": "hUkungMOsHUS"
      }
    },
    {
      "cell_type": "code",
      "source": [
        "sum = lambda x, y: x + y\n",
        "x = int(input(\"Enter the x: \"))\n",
        "y = int(input(\"Enter the y: \"))\n",
        "print(sum(x, y))"
      ],
      "metadata": {
        "colab": {
          "base_uri": "https://localhost:8080/"
        },
        "id": "HGCNVu6Cpq4h",
        "outputId": "d950847b-b760-47e3-da7d-3e54c69b6412"
      },
      "execution_count": null,
      "outputs": [
        {
          "output_type": "stream",
          "name": "stdout",
          "text": [
            "Enter the x: 34\n",
            "Enter the y: 43\n",
            "77\n"
          ]
        }
      ]
    },
    {
      "cell_type": "code",
      "source": [
        "def sum():\n",
        "  i=0\n",
        "  while(i<=5):\n",
        "    print(i)\n",
        "    i=i+1\n",
        "sum()"
      ],
      "metadata": {
        "colab": {
          "base_uri": "https://localhost:8080/"
        },
        "id": "gIbDmN5TrVtj",
        "outputId": "c57217d1-947f-45a3-ca21-6568c4db35c5"
      },
      "execution_count": null,
      "outputs": [
        {
          "output_type": "stream",
          "name": "stdout",
          "text": [
            "0\n",
            "1\n",
            "2\n",
            "3\n",
            "4\n",
            "5\n"
          ]
        }
      ]
    },
    {
      "cell_type": "code",
      "source": [
        "total=0;\n",
        "def sum(arg1,arg2):\n",
        "  total=arg1+arg2;\n",
        "  print(\"Inside the function local total: \",total)\n",
        "  return total;\n",
        "sum(10,20);\n",
        "print(\"Outside the function global total: \",total)"
      ],
      "metadata": {
        "colab": {
          "base_uri": "https://localhost:8080/"
        },
        "id": "nrehoOx_t0jx",
        "outputId": "b90032a8-a71f-4c6d-cbc5-077f8e5549f2"
      },
      "execution_count": null,
      "outputs": [
        {
          "output_type": "stream",
          "name": "stdout",
          "text": [
            "Inside the function local total:  30\n",
            "Outside the function global total:  0\n"
          ]
        }
      ]
    },
    {
      "cell_type": "code",
      "source": [
        "import math\n",
        "print(max(10,5,25))"
      ],
      "metadata": {
        "colab": {
          "base_uri": "https://localhost:8080/"
        },
        "id": "_zuzryKqul6b",
        "outputId": "08bc6829-07ac-4a65-c163-020885ba6aa3"
      },
      "execution_count": null,
      "outputs": [
        {
          "output_type": "stream",
          "name": "stdout",
          "text": [
            "25\n"
          ]
        }
      ]
    },
    {
      "cell_type": "code",
      "source": [
        "x=int(input(\"enter x:\"))\n",
        "y=float(input(\"enter y:\"))\n",
        "z=int(input(\"enter x:\"))\n",
        "def sum(x,y,z):\n",
        "  s=x,y,z\n",
        "  return s\n",
        "def pro(x,y,z):\n",
        "    p=x*y*z\n",
        "    return p\n",
        "print(\"sum\",sum(x,y,z))\n",
        "print(\"product\",pro(x,y,z))"
      ],
      "metadata": {
        "id": "VJn6YERMvtvi",
        "colab": {
          "base_uri": "https://localhost:8080/"
        },
        "outputId": "1f3a7ca1-9991-4b0d-debf-c366707a6378"
      },
      "execution_count": null,
      "outputs": [
        {
          "output_type": "stream",
          "name": "stdout",
          "text": [
            "enter x:5\n",
            "enter y:2\n",
            "enter x:8\n",
            "sum (5, 2.0, 8)\n",
            "product 80.0\n"
          ]
        }
      ]
    },
    {
      "cell_type": "code",
      "source": [
        "def maxi(a,b,c):\n",
        "    if a>b and a>c:\n",
        "        print(\"a is greater\")\n",
        "    elif b>c:\n",
        "        print(\"b is greater\")\n",
        "    else:\n",
        "        print(\"c is greater\")\n",
        "maxi(1,6,2)"
      ],
      "metadata": {
        "colab": {
          "base_uri": "https://localhost:8080/"
        },
        "id": "p2nJ4FAPqTay",
        "outputId": "719911ff-2aab-456b-9ff4-0ddcce64465b"
      },
      "execution_count": null,
      "outputs": [
        {
          "output_type": "stream",
          "name": "stdout",
          "text": [
            "b is greater\n"
          ]
        }
      ]
    },
    {
      "cell_type": "code",
      "source": [
        "a=int(input(\"enter the number:\"))\n",
        "b=int(int(input(\"enter the number:\")))\n",
        "d=a+b;\n",
        "e=a*b\n",
        "if d==19:\n",
        "  print(\"d is a special number\")\n",
        "elif e==19:\n",
        "  print(\"e is a special number\")\n",
        "else:\n",
        "  print(\"not a special number\")"
      ],
      "metadata": {
        "id": "9phnAHQXsNMb",
        "colab": {
          "base_uri": "https://localhost:8080/"
        },
        "outputId": "8a19e378-af11-4f09-ba5a-a62f5f7e832b"
      },
      "execution_count": null,
      "outputs": [
        {
          "output_type": "stream",
          "name": "stdout",
          "text": [
            "enter the number:4\n",
            "enter the number:6\n",
            "not a special number\n"
          ]
        }
      ]
    },
    {
      "cell_type": "code",
      "source": [
        "x=int(input())\n",
        "f=x//10\n",
        "s=x%10\n",
        "print(\"First digit : \",f)\n",
        "print(\"Second digit : \",s)\n",
        "result=(f+s)+(f*s)\n",
        "print(\"Result\",result)\n",
        "if x==result:\n",
        "  print(\"special number\")\n",
        "else:\n",
        "  print(\"not a special number\")"
      ],
      "metadata": {
        "colab": {
          "base_uri": "https://localhost:8080/"
        },
        "id": "DqGCL7Nwws-Z",
        "outputId": "e7cd0b20-4f34-42ea-dda6-d97a7384d40c"
      },
      "execution_count": null,
      "outputs": [
        {
          "output_type": "stream",
          "name": "stdout",
          "text": [
            "5\n",
            "First digit :  0\n",
            "Second digit :  5\n",
            "Result 5\n",
            "special number\n"
          ]
        }
      ]
    },
    {
      "cell_type": "code",
      "source": [
        "def is_happy_number(num):\n",
        "    def sum_of_squares(n):\n",
        "        return sum(int(digit) ** 2 for digit in str(n))\n",
        "\n",
        "    visited_numbers = set()\n",
        "\n",
        "    while num != 1 and num not in visited_numbers:\n",
        "        visited_numbers.add(num)\n",
        "        num = sum_of_squares(num)\n",
        "\n",
        "    if num == 1:\n",
        "        return \"Happy Number\"\n",
        "    else:\n",
        "        return \"Not a Happy Number\"\n",
        "\n",
        "number = int(input())\n",
        "print(is_happy_number(number))"
      ],
      "metadata": {
        "id": "DG5z5d9vy78D",
        "colab": {
          "base_uri": "https://localhost:8080/"
        },
        "outputId": "2d4aca56-95e5-4614-eb6a-b4e79bb40849"
      },
      "execution_count": null,
      "outputs": [
        {
          "output_type": "stream",
          "name": "stdout",
          "text": [
            "3\n",
            "Not a Happy Number\n"
          ]
        }
      ]
    },
    {
      "cell_type": "code",
      "source": [
        "def add(x,y):\n",
        "  return x+y\n",
        "def sub(x,y):\n",
        "  return x-y"
      ],
      "metadata": {
        "id": "WG78OZX8RlVv"
      },
      "execution_count": null,
      "outputs": []
    },
    {
      "cell_type": "code",
      "source": [
        "a=int(input(\"enter the num:\"))\n",
        "b=int(input(\"enter the num:\"))\n",
        "c=int(input(\"enter the num:\"))\n",
        "if a>b:\n",
        "  if a>c:\n",
        "    print(a)\n",
        "if b>a:\n",
        "  if b>c:\n",
        "    print(b)\n",
        "if c>a:\n",
        "  if c>b:\n",
        "    print(c)"
      ],
      "metadata": {
        "colab": {
          "base_uri": "https://localhost:8080/"
        },
        "id": "rXyHZR2R6HCN",
        "outputId": "c16384ba-2ab5-46bd-a152-1db5a8b8e2be"
      },
      "execution_count": null,
      "outputs": [
        {
          "output_type": "stream",
          "name": "stdout",
          "text": [
            "enter the num:4\n",
            "enter the num:2\n",
            "enter the num:6\n",
            "6\n"
          ]
        }
      ]
    },
    {
      "cell_type": "code",
      "source": [
        "s=(\"Hello World\")\n",
        "print(s[:-2])"
      ],
      "metadata": {
        "colab": {
          "base_uri": "https://localhost:8080/"
        },
        "id": "mOENa1br6T42",
        "outputId": "f3342937-2b59-441f-edcf-b8918ff5d324"
      },
      "execution_count": null,
      "outputs": [
        {
          "output_type": "stream",
          "name": "stdout",
          "text": [
            "Hello Wor\n"
          ]
        }
      ]
    },
    {
      "cell_type": "code",
      "source": [
        "str=(\"Hello World\")\n",
        "print(str[::-1])"
      ],
      "metadata": {
        "colab": {
          "base_uri": "https://localhost:8080/"
        },
        "id": "eSb9jmLk62co",
        "outputId": "297f723e-fbdd-411f-becc-0f63dbf8f76f"
      },
      "execution_count": null,
      "outputs": [
        {
          "output_type": "stream",
          "name": "stdout",
          "text": [
            "dlroW olleH\n"
          ]
        }
      ]
    },
    {
      "cell_type": "code",
      "source": [
        "a=\"All Is Well\"\n",
        "print(a[:-2])\n",
        "print(a[1:8])"
      ],
      "metadata": {
        "colab": {
          "base_uri": "https://localhost:8080/"
        },
        "id": "wmE8uQtj7Wfu",
        "outputId": "53e28948-e99a-46c6-96b1-ef2015fd3996"
      },
      "execution_count": null,
      "outputs": [
        {
          "output_type": "stream",
          "name": "stdout",
          "text": [
            "All Is We\n",
            "ll Is W\n"
          ]
        }
      ]
    },
    {
      "cell_type": "code",
      "source": [
        "str=(\"Hello World\")\n",
        "print(str[::-2])"
      ],
      "metadata": {
        "colab": {
          "base_uri": "https://localhost:8080/"
        },
        "id": "DPokvElC7xQe",
        "outputId": "1f9e2fbc-2f85-450c-b4b5-e1cdb585c0f0"
      },
      "execution_count": null,
      "outputs": [
        {
          "output_type": "stream",
          "name": "stdout",
          "text": [
            "drWolH\n"
          ]
        }
      ]
    },
    {
      "cell_type": "code",
      "source": [
        "str=(\"Hello World\")\n",
        "print(str[::2])"
      ],
      "metadata": {
        "colab": {
          "base_uri": "https://localhost:8080/"
        },
        "id": "A4l6lun071_I",
        "outputId": "f5c6ee57-5b37-443d-8660-53a689cd755a"
      },
      "execution_count": null,
      "outputs": [
        {
          "output_type": "stream",
          "name": "stdout",
          "text": [
            "HloWrd\n"
          ]
        }
      ]
    },
    {
      "cell_type": "code",
      "source": [
        "str=(\"Hello World\")\n",
        "print(str[2::])"
      ],
      "metadata": {
        "colab": {
          "base_uri": "https://localhost:8080/"
        },
        "id": "mZQb-Exp784q",
        "outputId": "b35fb6f3-ade2-486e-8a89-db943dc6cf20"
      },
      "execution_count": null,
      "outputs": [
        {
          "output_type": "stream",
          "name": "stdout",
          "text": [
            "llo World\n"
          ]
        }
      ]
    },
    {
      "cell_type": "code",
      "source": [
        "str=(\"Hello World\")\n",
        "print(str[-2::])"
      ],
      "metadata": {
        "colab": {
          "base_uri": "https://localhost:8080/"
        },
        "id": "_XUKc0Q87_Bv",
        "outputId": "d9920364-8fba-4f0b-8e6c-4b9480f40a06"
      },
      "execution_count": null,
      "outputs": [
        {
          "output_type": "stream",
          "name": "stdout",
          "text": [
            "ld\n"
          ]
        }
      ]
    },
    {
      "cell_type": "code",
      "source": [
        "str=(\"Hello World\")\n",
        "print(str[::-4])"
      ],
      "metadata": {
        "colab": {
          "base_uri": "https://localhost:8080/"
        },
        "id": "uUjQ-TDj8Cab",
        "outputId": "49333816-bddc-47db-e8c7-cffe61285768"
      },
      "execution_count": null,
      "outputs": [
        {
          "output_type": "stream",
          "name": "stdout",
          "text": [
            "dWl\n"
          ]
        }
      ]
    },
    {
      "cell_type": "code",
      "source": [
        "str=(\"Hello World\")\n",
        "print(str[0:11:2])"
      ],
      "metadata": {
        "colab": {
          "base_uri": "https://localhost:8080/"
        },
        "id": "RbIy5kce8JT2",
        "outputId": "effe0114-1471-477e-b269-331664c4c48f"
      },
      "execution_count": null,
      "outputs": [
        {
          "output_type": "stream",
          "name": "stdout",
          "text": [
            "HloWrd\n"
          ]
        }
      ]
    },
    {
      "cell_type": "code",
      "source": [
        "a=2*\"chunnu\"+\"munnu\"\n",
        "print(a)"
      ],
      "metadata": {
        "colab": {
          "base_uri": "https://localhost:8080/"
        },
        "id": "qUt_jixH8UvK",
        "outputId": "ba19303e-c6e9-4813-a6d1-b596b61eb1cc"
      },
      "execution_count": null,
      "outputs": [
        {
          "output_type": "stream",
          "name": "stdout",
          "text": [
            "chunnuchunnumunnu\n"
          ]
        }
      ]
    },
    {
      "cell_type": "code",
      "source": [
        "a=2*\"chunnu munnu \"\n",
        "print(a)"
      ],
      "metadata": {
        "colab": {
          "base_uri": "https://localhost:8080/"
        },
        "id": "6XJwxzLJ9YPl",
        "outputId": "e529325b-45fd-479d-e5b7-037c13da5c0f"
      },
      "execution_count": null,
      "outputs": [
        {
          "output_type": "stream",
          "name": "stdout",
          "text": [
            "chunnu munnu chunnu munnu \n"
          ]
        }
      ]
    },
    {
      "cell_type": "code",
      "source": [
        "num=int(input(\"enter the number:\"))\n",
        "if num==0:\n",
        "  print(\"The number is zero\")\n",
        "else:\n",
        "  if num>0:\n",
        "    if num%2==0:\n",
        "      print(\"The number is positive and even\")\n",
        "    else:\n",
        "      print(\"The number is positive and odd\")\n",
        "\n",
        "  else:\n",
        "    if num%2==0:\n",
        "      print(\"The number is negative and even\")\n",
        "    else:\n",
        "      print(\"The number is negative and odd\")"
      ],
      "metadata": {
        "id": "Rcz6LMiI-d7x",
        "colab": {
          "base_uri": "https://localhost:8080/"
        },
        "outputId": "b2782631-0c40-423f-c8fb-f09118bda917"
      },
      "execution_count": null,
      "outputs": [
        {
          "output_type": "stream",
          "name": "stdout",
          "text": [
            "enter the number:4\n",
            "The number is positive and even\n"
          ]
        }
      ]
    },
    {
      "cell_type": "code",
      "source": [
        "Take a user input as an integer, use the nested if-else statement to determine and print whether the number is positive and even, negative and odd, negative or zero."
      ],
      "metadata": {
        "id": "pip82mc4A1fd"
      },
      "execution_count": null,
      "outputs": []
    },
    {
      "cell_type": "code",
      "source": [
        "num=int(input(\"enter the number:\"))\n",
        "if num<0:\n",
        "    if num%2!=0:\n",
        "      print(\"The number is negative and odd\")\n",
        "      print(\"negative\")\n",
        "if num>0:\n",
        "  if num%2==0:\n",
        "     print(\"The number is positive and even\")\n",
        "if num==0:\n",
        "  print(\"zero\")"
      ],
      "metadata": {
        "colab": {
          "base_uri": "https://localhost:8080/"
        },
        "id": "frM7f9CoCsPf",
        "outputId": "cafff1a2-d931-4920-877d-93a03b4aebf4"
      },
      "execution_count": null,
      "outputs": [
        {
          "output_type": "stream",
          "name": "stdout",
          "text": [
            "enter the number:4\n",
            "The number is positive and even\n"
          ]
        }
      ]
    },
    {
      "cell_type": "code",
      "source": [
        "num=int(input(\"enter the number:\"))\n",
        "if num<0:\n",
        "    if num%2!=0:\n",
        "      print(\"The number is negative and odd\")\n",
        "      print(\"negative\")\n",
        "    elif num %2==0:\n",
        "      print(\"negative\")\n",
        "if num>0:\n",
        "  if num%2==0:\n",
        "     print(\"The number is positive and even\")\n",
        "     print(\"positive\")\n",
        "  elif num%2!=0:\n",
        "    print(\"positive\")\n",
        "if num==0:\n",
        "  print(\"zero\")"
      ],
      "metadata": {
        "colab": {
          "base_uri": "https://localhost:8080/"
        },
        "id": "y0o_5062DZb9",
        "outputId": "ed57edb8-35aa-4bfd-c369-1d71d860d7d9"
      },
      "execution_count": null,
      "outputs": [
        {
          "output_type": "stream",
          "name": "stdout",
          "text": [
            "enter the number:4\n",
            "The number is positive and even\n",
            "positive\n"
          ]
        }
      ]
    },
    {
      "cell_type": "code",
      "source": [],
      "metadata": {
        "id": "URi-eqmcFOBo"
      },
      "execution_count": null,
      "outputs": []
    }
  ]
}