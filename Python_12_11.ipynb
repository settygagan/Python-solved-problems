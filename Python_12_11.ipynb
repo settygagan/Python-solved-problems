{
  "nbformat": 4,
  "nbformat_minor": 0,
  "metadata": {
    "colab": {
      "provenance": []
    },
    "kernelspec": {
      "name": "python3",
      "display_name": "Python 3"
    },
    "language_info": {
      "name": "python"
    }
  },
  "cells": [
    {
      "cell_type": "code",
      "execution_count": null,
      "metadata": {
        "colab": {
          "base_uri": "https://localhost:8080/"
        },
        "id": "A0BatWCkbQ1P",
        "outputId": "3c3b5ef1-5a19-450f-b829-219cc21509c9"
      },
      "outputs": [
        {
          "output_type": "stream",
          "name": "stdout",
          "text": [
            "Enter numbers separated by spaces: 3 10 20 30\n",
            "The maximum number is: 30\n"
          ]
        }
      ],
      "source": [
        "numbers = list(map(int, input(\"Enter numbers separated by spaces: \").split()))\n",
        "max_number = max(numbers)\n",
        "print(\"The maximum number is:\", max_number)"
      ]
    },
    {
      "cell_type": "code",
      "source": [
        "n=list(map(int,input(\"enter the number\").split()))\n",
        "m=max(n)\n",
        "print(\"the max number\",m)"
      ],
      "metadata": {
        "colab": {
          "base_uri": "https://localhost:8080/"
        },
        "id": "fRUaovkPcA7h",
        "outputId": "43e2d007-9933-4299-9d06-302309d369c0"
      },
      "execution_count": null,
      "outputs": [
        {
          "output_type": "stream",
          "name": "stdout",
          "text": [
            "enter the number1 2 3 4 5\n",
            "the max number 5\n"
          ]
        }
      ]
    },
    {
      "cell_type": "code",
      "source": [
        "n=list(map(int,input(\"enter the number\").split()))\n",
        "m=sum(n)\n",
        "print(\"the sum is\",m)"
      ],
      "metadata": {
        "colab": {
          "base_uri": "https://localhost:8080/"
        },
        "id": "ZM4vNgjpdbO9",
        "outputId": "7f7d4269-b5d0-44c3-e6f6-87ed0a6409be"
      },
      "execution_count": null,
      "outputs": [
        {
          "output_type": "stream",
          "name": "stdout",
          "text": [
            "enter the number4 2 5 2 9\n",
            "the sum is 22\n"
          ]
        }
      ]
    },
    {
      "cell_type": "code",
      "source": [
        "n=list(map(int,input(\"enter the number\").split()))\n",
        "m=sum(n)\n",
        "print(\"the sum is\",m)"
      ],
      "metadata": {
        "colab": {
          "base_uri": "https://localhost:8080/"
        },
        "id": "WaaownoodmcW",
        "outputId": "a041224c-42a1-4965-94c2-23d384d5f830"
      },
      "execution_count": null,
      "outputs": [
        {
          "output_type": "stream",
          "name": "stdout",
          "text": [
            "enter the number1 7 2 5 -1\n",
            "the sum is 14\n"
          ]
        }
      ]
    },
    {
      "cell_type": "code",
      "source": [
        "numbers = list(map(int, input(\"Enter numbers separated by spaces: \").split()))\n",
        "max_number = max(numbers)\n",
        "print(\"The maximum number is:\", max_number)"
      ],
      "metadata": {
        "colab": {
          "base_uri": "https://localhost:8080/"
        },
        "id": "vd_OIVTye0LO",
        "outputId": "f6949da3-12a4-42e8-f5b3-25d9e4903648"
      },
      "execution_count": null,
      "outputs": [
        {
          "output_type": "stream",
          "name": "stdout",
          "text": [
            "Enter numbers separated by spaces: 1 7 2 5 -1\n",
            "The maximum number is: 7\n"
          ]
        }
      ]
    },
    {
      "cell_type": "code",
      "source": [
        "numbers = [1, 7, 2, 5, -1]\n",
        "stringified = list(map(str, numbers))\n",
        "print(max(stringified))"
      ],
      "metadata": {
        "colab": {
          "base_uri": "https://localhost:8080/"
        },
        "id": "ZpUTvsu2e5Ny",
        "outputId": "38f5b295-0037-429c-a08e-bd3ac5e54641"
      },
      "execution_count": null,
      "outputs": [
        {
          "output_type": "stream",
          "name": "stdout",
          "text": [
            "7\n"
          ]
        }
      ]
    },
    {
      "cell_type": "code",
      "source": [
        "x=\"hi how are you\"\n",
        "words=x.split()\n",
        "print(words)"
      ],
      "metadata": {
        "colab": {
          "base_uri": "https://localhost:8080/"
        },
        "id": "0MMqcWrHgFTL",
        "outputId": "59b633ea-5305-4b64-bf6a-9c00d1c86c0e"
      },
      "execution_count": null,
      "outputs": [
        {
          "output_type": "stream",
          "name": "stdout",
          "text": [
            "['hi', 'how', 'are', 'you']\n"
          ]
        }
      ]
    },
    {
      "cell_type": "code",
      "source": [
        "def count_distinct_elements(input_list):\n",
        "    distinct_elements = set(input_list)\n",
        "    return len(distinct_elements)\n",
        "input_list = [5, 3, 2, 3, 780, 90]\n",
        "\n",
        "print(\"Number of distinct elements:\", count_distinct_elements(input_list))\n"
      ],
      "metadata": {
        "colab": {
          "base_uri": "https://localhost:8080/"
        },
        "id": "umwskiJOhvMO",
        "outputId": "6b32d6bb-c33d-44b0-c3aa-0c09ad81205e"
      },
      "execution_count": null,
      "outputs": [
        {
          "output_type": "stream",
          "name": "stdout",
          "text": [
            "Number of distinct elements: 5\n"
          ]
        }
      ]
    },
    {
      "cell_type": "code",
      "source": [
        "fruits=[\"apple\",\"banana\",\"cherry\",\"kiwi\",\"mango\"]\n",
        "newlist=[x for x in fruits if \"a\" in x]\n",
        "print(newlist)"
      ],
      "metadata": {
        "colab": {
          "base_uri": "https://localhost:8080/"
        },
        "id": "yskU8TREkoYy",
        "outputId": "f3cca41f-aa49-47fa-fd2c-a5be399b6883"
      },
      "execution_count": null,
      "outputs": [
        {
          "output_type": "stream",
          "name": "stdout",
          "text": [
            "['apple', 'banana', 'mango']\n"
          ]
        }
      ]
    },
    {
      "cell_type": "code",
      "source": [
        "x,y=[int(x)for x in input().split()]\n",
        "print(\"First Number is:\",x)\n",
        "print(\"Second Number is:\",y)"
      ],
      "metadata": {
        "colab": {
          "base_uri": "https://localhost:8080/"
        },
        "id": "hs4Dq_BPoaIW",
        "outputId": "61f516b8-53e3-4b5f-e0f3-ccfcc4d50631"
      },
      "execution_count": null,
      "outputs": [
        {
          "output_type": "stream",
          "name": "stdout",
          "text": [
            "5 20\n",
            "First Number is: 5\n",
            "Second Number is: 20\n"
          ]
        }
      ]
    },
    {
      "cell_type": "code",
      "source": [
        "x=[int(x)for x in input().split()]\n",
        "print(\"Number of list is:\",x)"
      ],
      "metadata": {
        "colab": {
          "base_uri": "https://localhost:8080/"
        },
        "id": "7hT3OSlSosD3",
        "outputId": "7c12c995-c3cd-446e-ee50-1d62a490547f"
      },
      "execution_count": null,
      "outputs": [
        {
          "output_type": "stream",
          "name": "stdout",
          "text": [
            "5 15 10 5\n",
            "Number of list is: [5, 15, 10, 5]\n"
          ]
        }
      ]
    },
    {
      "cell_type": "code",
      "source": [],
      "metadata": {
        "id": "_N5o4FtkpzI-"
      },
      "execution_count": null,
      "outputs": []
    }
  ]
}