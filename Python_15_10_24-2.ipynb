{
  "nbformat": 4,
  "nbformat_minor": 0,
  "metadata": {
    "colab": {
      "provenance": []
    },
    "kernelspec": {
      "name": "python3",
      "display_name": "Python 3"
    },
    "language_info": {
      "name": "python"
    }
  },
  "cells": [
    {
      "cell_type": "code",
      "source": [
        "def add(x,y):\n",
        "  return x+y\n",
        "def sub(x,y):\n",
        "  return x-y"
      ],
      "metadata": {
        "id": "bljstPeGU_vF"
      },
      "execution_count": null,
      "outputs": []
    },
    {
      "cell_type": "code",
      "source": [
        "import Module\n",
        "print(Module.add(10,12))"
      ],
      "metadata": {
        "colab": {
          "base_uri": "https://localhost:8080/"
        },
        "id": "0YuQDRO7V6ka",
        "outputId": "6fa35039-d1be-4890-c64e-00297fd18c9b"
      },
      "execution_count": null,
      "outputs": [
        {
          "output_type": "stream",
          "name": "stdout",
          "text": [
            "22\n"
          ]
        }
      ]
    },
    {
      "cell_type": "code",
      "source": [
        "x=str(input())\n",
        "y=str(input())\n",
        "if x==y:\n",
        "  print(\"x are same\")\n",
        "else:\n",
        "  print(\"x are not same\")"
      ],
      "metadata": {
        "id": "qHIHTSa0WB4Y",
        "colab": {
          "base_uri": "https://localhost:8080/"
        },
        "outputId": "38407ddf-5300-4ae9-e6fd-4db2481c3a72"
      },
      "execution_count": null,
      "outputs": [
        {
          "output_type": "stream",
          "name": "stdout",
          "text": [
            "Gagan\n",
            "Setty\n",
            "x are not same\n"
          ]
        }
      ]
    },
    {
      "cell_type": "code",
      "source": [
        "n=int(input(\"Enter a number: \"))\n",
        "if n%7==0:\n",
        "  print(\"yes\")\n",
        "else:\n",
        "  print(\"no\")"
      ],
      "metadata": {
        "colab": {
          "base_uri": "https://localhost:8080/"
        },
        "id": "cMC52XZXV0Wc",
        "outputId": "2eefe89d-26b2-4980-ae28-c67e898a3890"
      },
      "execution_count": null,
      "outputs": [
        {
          "output_type": "stream",
          "name": "stdout",
          "text": [
            "Enter a number: 49\n",
            "yes\n"
          ]
        }
      ]
    },
    {
      "cell_type": "code",
      "source": [
        "n=int(input(\"Enter a number\"))\n",
        "l=int(input(\"Enter a number\"))\n",
        "r=int(input(\"Enter a number\"))\n",
        "if I<=n<=R:\n",
        "  print(\"yes\")\n",
        "else:\n",
        "  print(\"no\")\n"
      ],
      "metadata": {
        "colab": {
          "base_uri": "https://localhost:8080/"
        },
        "id": "DlyN_8N6W0B5",
        "outputId": "522dbafb-69bb-44c0-fc4f-af17e919835b"
      },
      "execution_count": null,
      "outputs": [
        {
          "output_type": "stream",
          "name": "stdout",
          "text": [
            "Enter a number3\n",
            "Enter a number2\n",
            "Enter a number6\n",
            "yes\n"
          ]
        }
      ]
    },
    {
      "cell_type": "code",
      "source": [
        "n=int(input())\n",
        "l=int(input())\n",
        "r=int(input())\n",
        "if n>l and n<r:\n",
        "    print(\"Yes\")\n",
        "else:\n",
        "    print(\"No\")"
      ],
      "metadata": {
        "colab": {
          "base_uri": "https://localhost:8080/"
        },
        "id": "5rqSQS9JZADS",
        "outputId": "05df0523-a466-4af9-cf3d-e508e0562983"
      },
      "execution_count": null,
      "outputs": [
        {
          "output_type": "stream",
          "name": "stdout",
          "text": [
            "7\n",
            "10\n",
            "4\n",
            "No\n"
          ]
        }
      ]
    },
    {
      "cell_type": "code",
      "source": [
        "l=int(input())\n",
        "n=int(input())\n",
        "r=int(input())\n",
        "if l<=n>=r: #1 2 3\n",
        "  print(\"between l and r\")\n",
        "else:\n",
        "  print(\"not between\")"
      ],
      "metadata": {
        "colab": {
          "base_uri": "https://localhost:8080/"
        },
        "id": "HVa4NP7SbJPS",
        "outputId": "d647409d-acbb-4e1e-a0e6-d4e4420bd53c"
      },
      "execution_count": null,
      "outputs": [
        {
          "output_type": "stream",
          "name": "stdout",
          "text": [
            "7\n",
            "10\n",
            "4\n",
            "between l and r\n"
          ]
        }
      ]
    },
    {
      "cell_type": "code",
      "source": [],
      "metadata": {
        "id": "R9P-oaI7bcpN"
      },
      "execution_count": null,
      "outputs": []
    }
  ]
}