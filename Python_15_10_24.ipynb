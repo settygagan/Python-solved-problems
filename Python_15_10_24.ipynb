{
  "nbformat": 4,
  "nbformat_minor": 0,
  "metadata": {
    "colab": {
      "provenance": []
    },
    "kernelspec": {
      "name": "python3",
      "display_name": "Python 3"
    },
    "language_info": {
      "name": "python"
    }
  },
  "cells": [
    {
      "cell_type": "code",
      "source": [
        "def add(x,y):\n",
        "  return x+y\n",
        "def sub(x,y):\n",
        "  return x-y"
      ],
      "metadata": {
        "id": "bljstPeGU_vF"
      },
      "execution_count": 5,
      "outputs": []
    },
    {
      "cell_type": "code",
      "source": [
        "import Module\n",
        "print(Module.add(10,12))"
      ],
      "metadata": {
        "colab": {
          "base_uri": "https://localhost:8080/"
        },
        "id": "0YuQDRO7V6ka",
        "outputId": "6fa35039-d1be-4890-c64e-00297fd18c9b"
      },
      "execution_count": 3,
      "outputs": [
        {
          "output_type": "stream",
          "name": "stdout",
          "text": [
            "22\n"
          ]
        }
      ]
    },
    {
      "cell_type": "code",
      "source": [],
      "metadata": {
        "id": "qHIHTSa0WB4Y"
      },
      "execution_count": null,
      "outputs": []
    }
  ]
}