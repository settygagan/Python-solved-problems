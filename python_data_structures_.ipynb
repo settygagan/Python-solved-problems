{
  "nbformat": 4,
  "nbformat_minor": 0,
  "metadata": {
    "colab": {
      "provenance": []
    },
    "kernelspec": {
      "name": "python3",
      "display_name": "Python 3"
    },
    "language_info": {
      "name": "python"
    }
  },
  "cells": [
    {
      "cell_type": "code",
      "execution_count": null,
      "metadata": {
        "id": "3Zkg2dRnI0qO"
      },
      "outputs": [],
      "source": [
        "a=[10,20,30,40]"
      ]
    },
    {
      "cell_type": "code",
      "source": [
        "for i in a:\n",
        "  print(i,end=\" \")"
      ],
      "metadata": {
        "colab": {
          "base_uri": "https://localhost:8080/"
        },
        "id": "ETXBywUaJOqX",
        "outputId": "cc6b76b8-5ec2-464b-a259-528053b94c28"
      },
      "execution_count": null,
      "outputs": [
        {
          "output_type": "stream",
          "name": "stdout",
          "text": [
            "10 20 30 40 "
          ]
        }
      ]
    },
    {
      "cell_type": "code",
      "source": [
        "i = 0\n",
        "while i < len(a):\n",
        "    print(a[i])\n",
        "    i += 1"
      ],
      "metadata": {
        "colab": {
          "base_uri": "https://localhost:8080/"
        },
        "id": "u6Ksl61cJWL9",
        "outputId": "0e10b378-ea9b-4903-b778-1c297ebaf0c1"
      },
      "execution_count": null,
      "outputs": [
        {
          "output_type": "stream",
          "name": "stdout",
          "text": [
            "10\n",
            "20\n",
            "30\n",
            "40\n"
          ]
        }
      ]
    },
    {
      "cell_type": "code",
      "source": [
        "for i in a:\n",
        "  if i==30:\n",
        "    print(\"Value found\")\n",
        "    break\n",
        "else:\n",
        "    print(\"Value not found\")"
      ],
      "metadata": {
        "colab": {
          "base_uri": "https://localhost:8080/"
        },
        "id": "4lc-BrrPKFrs",
        "outputId": "29d4d146-f38e-43b1-f973-a4438ed87956"
      },
      "execution_count": null,
      "outputs": [
        {
          "output_type": "stream",
          "name": "stdout",
          "text": [
            "Value found\n"
          ]
        }
      ]
    },
    {
      "cell_type": "code",
      "source": [
        "if 30 in a:\n",
        "  print(\"30 is present in the list\")\n",
        "else:\n",
        "  print(\"30 is not present in the list\")"
      ],
      "metadata": {
        "colab": {
          "base_uri": "https://localhost:8080/"
        },
        "id": "lOpC6Qn7LmaA",
        "outputId": "94c73c2c-14bc-42f6-f68d-8b2360ca0ddb"
      },
      "execution_count": null,
      "outputs": [
        {
          "output_type": "stream",
          "name": "stdout",
          "text": [
            "30 is present in the list\n"
          ]
        }
      ]
    },
    {
      "cell_type": "code",
      "source": [
        "for i in range(len(a)):\n",
        "  if a[i]==30:\n",
        "    print(i)\n",
        "    break"
      ],
      "metadata": {
        "colab": {
          "base_uri": "https://localhost:8080/"
        },
        "id": "YLq3FgXBMovF",
        "outputId": "d1204c30-3834-48ca-c6d7-5f52b7dc35d4"
      },
      "execution_count": null,
      "outputs": [
        {
          "output_type": "stream",
          "name": "stdout",
          "text": [
            "2\n"
          ]
        }
      ]
    },
    {
      "cell_type": "code",
      "source": [
        "items=[10,20,30,40,50,60,70,80]\n",
        "print(items.index(80))"
      ],
      "metadata": {
        "colab": {
          "base_uri": "https://localhost:8080/"
        },
        "id": "80lWAawDOc-x",
        "outputId": "22c82d88-10cb-49c5-911a-735112ade3c7"
      },
      "execution_count": null,
      "outputs": [
        {
          "output_type": "stream",
          "name": "stdout",
          "text": [
            "7\n"
          ]
        }
      ]
    },
    {
      "cell_type": "code",
      "source": [
        "a=[10,20,30,40,58,90,23,56,78,98,34,13,57,57,89,33,45,87,11,29,3,4,11,29,3,4,9,10,20,47,56,6,87,72,84]\n",
        "len(a)"
      ],
      "metadata": {
        "colab": {
          "base_uri": "https://localhost:8080/"
        },
        "id": "_G_JvCj9O6jr",
        "outputId": "2e842410-8ffa-41b5-84d2-14f63eeebb66"
      },
      "execution_count": null,
      "outputs": [
        {
          "output_type": "execute_result",
          "data": {
            "text/plain": [
              "35"
            ]
          },
          "metadata": {},
          "execution_count": 59
        }
      ]
    },
    {
      "cell_type": "code",
      "source": [
        "a[len(a)-1]"
      ],
      "metadata": {
        "colab": {
          "base_uri": "https://localhost:8080/"
        },
        "id": "lapYHsTLPqmv",
        "outputId": "61d285c9-c595-4ba7-b7ed-d4fe68cbb84d"
      },
      "execution_count": null,
      "outputs": [
        {
          "output_type": "execute_result",
          "data": {
            "text/plain": [
              "84"
            ]
          },
          "metadata": {},
          "execution_count": 60
        }
      ]
    },
    {
      "cell_type": "code",
      "source": [
        "a[-4]"
      ],
      "metadata": {
        "colab": {
          "base_uri": "https://localhost:8080/"
        },
        "id": "Qo77scVwPyNZ",
        "outputId": "9f1b49d9-7f4c-4594-ca6f-2ee67e4eaa76"
      },
      "execution_count": null,
      "outputs": [
        {
          "output_type": "execute_result",
          "data": {
            "text/plain": [
              "6"
            ]
          },
          "metadata": {},
          "execution_count": 61
        }
      ]
    },
    {
      "cell_type": "code",
      "source": [
        "a[-12]"
      ],
      "metadata": {
        "colab": {
          "base_uri": "https://localhost:8080/"
        },
        "id": "eZHpMDg0P5NL",
        "outputId": "3ab59ffd-bf0f-4174-9217-e213d30ea647"
      },
      "execution_count": null,
      "outputs": [
        {
          "output_type": "execute_result",
          "data": {
            "text/plain": [
              "29"
            ]
          },
          "metadata": {},
          "execution_count": 62
        }
      ]
    },
    {
      "cell_type": "code",
      "source": [
        "list_1=[1,21,12,6,10,67,91,99,26,7,18,11,98,27,3,15,22,21,23]"
      ],
      "metadata": {
        "id": "fnNS2UiyP85Z"
      },
      "execution_count": null,
      "outputs": []
    },
    {
      "cell_type": "code",
      "source": [
        "list_1[-19]"
      ],
      "metadata": {
        "colab": {
          "base_uri": "https://localhost:8080/"
        },
        "id": "R_iOZx1WQdjh",
        "outputId": "c6ddaa81-08e7-4055-9d53-d10079dd0995"
      },
      "execution_count": null,
      "outputs": [
        {
          "output_type": "execute_result",
          "data": {
            "text/plain": [
              "1"
            ]
          },
          "metadata": {},
          "execution_count": 64
        }
      ]
    },
    {
      "cell_type": "code",
      "source": [
        "list_1[-len(list_1)]"
      ],
      "metadata": {
        "colab": {
          "base_uri": "https://localhost:8080/"
        },
        "id": "gQUc-J4IQi3j",
        "outputId": "57358c92-d1a9-4db4-cae6-3d32b5b75928"
      },
      "execution_count": null,
      "outputs": [
        {
          "output_type": "execute_result",
          "data": {
            "text/plain": [
              "1"
            ]
          },
          "metadata": {},
          "execution_count": 65
        }
      ]
    },
    {
      "cell_type": "code",
      "source": [
        "information=[1,\"ABC\",84.9,'a']\n",
        "print(information)"
      ],
      "metadata": {
        "colab": {
          "base_uri": "https://localhost:8080/"
        },
        "id": "boTXSD8yQso_",
        "outputId": "a1dcda5c-7a69-4356-eec0-d3132f34160a"
      },
      "execution_count": null,
      "outputs": [
        {
          "output_type": "stream",
          "name": "stdout",
          "text": [
            "[1, 'ABC', 84.9, 'a']\n"
          ]
        }
      ]
    },
    {
      "cell_type": "code",
      "source": [
        "information[1]"
      ],
      "metadata": {
        "colab": {
          "base_uri": "https://localhost:8080/",
          "height": 35
        },
        "id": "hFXCOfzORaIV",
        "outputId": "78507f1c-ece5-4d2a-e1a4-5b0443aa7489"
      },
      "execution_count": null,
      "outputs": [
        {
          "output_type": "execute_result",
          "data": {
            "text/plain": [
              "'ABC'"
            ],
            "application/vnd.google.colaboratory.intrinsic+json": {
              "type": "string"
            }
          },
          "metadata": {},
          "execution_count": 2
        }
      ]
    },
    {
      "cell_type": "code",
      "source": [
        "information.append(\"Hello\")\n",
        "print(information)"
      ],
      "metadata": {
        "colab": {
          "base_uri": "https://localhost:8080/"
        },
        "id": "eHmPQKZ8ReBQ",
        "outputId": "8230daa3-184a-4283-9a22-73796df9dad3"
      },
      "execution_count": null,
      "outputs": [
        {
          "output_type": "stream",
          "name": "stdout",
          "text": [
            "[1, 'ABC', 84.9, 'a', 'H', 'e', 'l', 'l', 'o', 'Hello']\n"
          ]
        }
      ]
    },
    {
      "cell_type": "code",
      "source": [
        "information+=\"Hello\""
      ],
      "metadata": {
        "id": "dsolSjzDSoxw"
      },
      "execution_count": null,
      "outputs": []
    },
    {
      "cell_type": "code",
      "source": [
        "information"
      ],
      "metadata": {
        "colab": {
          "base_uri": "https://localhost:8080/"
        },
        "id": "X0oNO4nuS_o1",
        "outputId": "f125af67-6882-4780-c68f-c1796f40f3a2"
      },
      "execution_count": null,
      "outputs": [
        {
          "output_type": "execute_result",
          "data": {
            "text/plain": [
              "[1, 'ABC', 84.9, 'a', 'Hello', 'H', 'e', 'l', 'l', 'o']"
            ]
          },
          "metadata": {},
          "execution_count": 70
        }
      ]
    },
    {
      "cell_type": "code",
      "source": [
        "information[1]=\"xyz\""
      ],
      "metadata": {
        "id": "kYHEMZKpTSI4"
      },
      "execution_count": null,
      "outputs": []
    },
    {
      "cell_type": "code",
      "source": [
        "information"
      ],
      "metadata": {
        "colab": {
          "base_uri": "https://localhost:8080/"
        },
        "id": "ig1W3UKMTleS",
        "outputId": "20922003-a3eb-4666-c1da-88176406c972"
      },
      "execution_count": null,
      "outputs": [
        {
          "output_type": "execute_result",
          "data": {
            "text/plain": [
              "[1,\n",
              " 'xyz',\n",
              " 84.9,\n",
              " 'a',\n",
              " 'H',\n",
              " 'e',\n",
              " 'l',\n",
              " 'l',\n",
              " 'o',\n",
              " 'Hello',\n",
              " 'H',\n",
              " 'e',\n",
              " 'l',\n",
              " 'l',\n",
              " 'o']"
            ]
          },
          "metadata": {},
          "execution_count": 7
        }
      ]
    },
    {
      "cell_type": "code",
      "source": [
        "information[0:3]"
      ],
      "metadata": {
        "colab": {
          "base_uri": "https://localhost:8080/"
        },
        "id": "TcIosQQuTmma",
        "outputId": "8e0ae01a-677b-48ab-ee08-86c70264c9f3"
      },
      "execution_count": null,
      "outputs": [
        {
          "output_type": "execute_result",
          "data": {
            "text/plain": [
              "[1, 'xyz', 84.9]"
            ]
          },
          "metadata": {},
          "execution_count": 8
        }
      ]
    },
    {
      "cell_type": "code",
      "source": [
        "information[:0]\n",
        "information[:1]\n",
        "information[:3]"
      ],
      "metadata": {
        "colab": {
          "base_uri": "https://localhost:8080/"
        },
        "id": "VbfEtLhMTz8n",
        "outputId": "4a0d92b6-af9e-4108-aac4-25d1d39a5759"
      },
      "execution_count": null,
      "outputs": [
        {
          "output_type": "execute_result",
          "data": {
            "text/plain": [
              "[1, 'xyz', 84.9]"
            ]
          },
          "metadata": {},
          "execution_count": 9
        }
      ]
    },
    {
      "cell_type": "code",
      "source": [
        "information[1:]"
      ],
      "metadata": {
        "colab": {
          "base_uri": "https://localhost:8080/"
        },
        "id": "J6E4o3mLT8RW",
        "outputId": "4a21b943-68cc-46ee-9bcd-8d7cface3264"
      },
      "execution_count": null,
      "outputs": [
        {
          "output_type": "execute_result",
          "data": {
            "text/plain": [
              "['xyz', 84.9, 'a', 'H', 'e', 'l', 'l', 'o', 'Hello', 'H', 'e', 'l', 'l', 'o']"
            ]
          },
          "metadata": {},
          "execution_count": 10
        }
      ]
    },
    {
      "cell_type": "code",
      "source": [
        "information[::4]"
      ],
      "metadata": {
        "colab": {
          "base_uri": "https://localhost:8080/"
        },
        "id": "2RwW6nJdUV8y",
        "outputId": "8fdf704e-6a4f-4a68-d55f-366af6190d89"
      },
      "execution_count": null,
      "outputs": [
        {
          "output_type": "execute_result",
          "data": {
            "text/plain": [
              "[1, 'H', 'o', 'l']"
            ]
          },
          "metadata": {},
          "execution_count": 11
        }
      ]
    },
    {
      "cell_type": "code",
      "source": [
        "information[1:6:2]"
      ],
      "metadata": {
        "colab": {
          "base_uri": "https://localhost:8080/"
        },
        "id": "EiFB3IEfU2CO",
        "outputId": "85045cf6-f03a-4300-8062-b02201bf7790"
      },
      "execution_count": null,
      "outputs": [
        {
          "output_type": "execute_result",
          "data": {
            "text/plain": [
              "['xyz', 'a', 'e']"
            ]
          },
          "metadata": {},
          "execution_count": 12
        }
      ]
    },
    {
      "cell_type": "code",
      "source": [
        "information[::3]"
      ],
      "metadata": {
        "colab": {
          "base_uri": "https://localhost:8080/"
        },
        "id": "o0LgS36PVJeL",
        "outputId": "bc9c92e4-c8b7-4631-83f4-70d00f504d73"
      },
      "execution_count": null,
      "outputs": [
        {
          "output_type": "execute_result",
          "data": {
            "text/plain": [
              "[1, 'a', 'l', 'Hello', 'l']"
            ]
          },
          "metadata": {},
          "execution_count": 13
        }
      ]
    },
    {
      "cell_type": "code",
      "source": [
        "information[::-1]"
      ],
      "metadata": {
        "colab": {
          "base_uri": "https://localhost:8080/"
        },
        "id": "Cd_IL6hmVVo8",
        "outputId": "ee18cd03-e076-42ca-8229-8fa501e7f02c"
      },
      "execution_count": null,
      "outputs": [
        {
          "output_type": "execute_result",
          "data": {
            "text/plain": [
              "['o',\n",
              " 'l',\n",
              " 'l',\n",
              " 'e',\n",
              " 'H',\n",
              " 'Hello',\n",
              " 'o',\n",
              " 'l',\n",
              " 'l',\n",
              " 'e',\n",
              " 'H',\n",
              " 'a',\n",
              " 84.9,\n",
              " 'xyz',\n",
              " 1]"
            ]
          },
          "metadata": {},
          "execution_count": 14
        }
      ]
    },
    {
      "cell_type": "code",
      "source": [
        "student_2=[2,\"STU\",8.58,\"Female\",\"India\",\"9876543210\"]"
      ],
      "metadata": {
        "id": "tnqOOwoDWDoo"
      },
      "execution_count": null,
      "outputs": []
    },
    {
      "cell_type": "code",
      "source": [
        "student_2[::-3]"
      ],
      "metadata": {
        "colab": {
          "base_uri": "https://localhost:8080/"
        },
        "id": "mM6uxcncWZcc",
        "outputId": "24f6bf82-248b-4e8a-85d5-6501cab0ecab"
      },
      "execution_count": null,
      "outputs": [
        {
          "output_type": "execute_result",
          "data": {
            "text/plain": [
              "['9876543210', 8.58]"
            ]
          },
          "metadata": {},
          "execution_count": 21
        }
      ]
    },
    {
      "cell_type": "code",
      "source": [
        "student_2[::2]"
      ],
      "metadata": {
        "colab": {
          "base_uri": "https://localhost:8080/"
        },
        "id": "MhUnmTHVWjqZ",
        "outputId": "0bb733dd-9844-4669-f112-02810c39d65e"
      },
      "execution_count": null,
      "outputs": [
        {
          "output_type": "execute_result",
          "data": {
            "text/plain": [
              "[2, 8.58, 'India']"
            ]
          },
          "metadata": {},
          "execution_count": 22
        }
      ]
    },
    {
      "cell_type": "markdown",
      "source": [
        "`Write a Python code to create a list of 100 elements, where all the entries are same number, and the number is given by the user.\\`"
      ],
      "metadata": {
        "id": "MVHdAb-qXEp9"
      }
    },
    {
      "cell_type": "code",
      "source": [
        "number = float(input(\"Enter a number: \"))\n",
        "number_list = [number] * 100\n",
        "print(number_list)"
      ],
      "metadata": {
        "colab": {
          "base_uri": "https://localhost:8080/"
        },
        "id": "q2Ne0I7GXBz-",
        "outputId": "6d463fd5-ba67-45ea-a076-70211e3091f0"
      },
      "execution_count": null,
      "outputs": [
        {
          "output_type": "stream",
          "name": "stdout",
          "text": [
            "Enter a number: 4\n",
            "[4.0, 4.0, 4.0, 4.0, 4.0, 4.0, 4.0, 4.0, 4.0, 4.0, 4.0, 4.0, 4.0, 4.0, 4.0, 4.0, 4.0, 4.0, 4.0, 4.0, 4.0, 4.0, 4.0, 4.0, 4.0, 4.0, 4.0, 4.0, 4.0, 4.0, 4.0, 4.0, 4.0, 4.0, 4.0, 4.0, 4.0, 4.0, 4.0, 4.0, 4.0, 4.0, 4.0, 4.0, 4.0, 4.0, 4.0, 4.0, 4.0, 4.0, 4.0, 4.0, 4.0, 4.0, 4.0, 4.0, 4.0, 4.0, 4.0, 4.0, 4.0, 4.0, 4.0, 4.0, 4.0, 4.0, 4.0, 4.0, 4.0, 4.0, 4.0, 4.0, 4.0, 4.0, 4.0, 4.0, 4.0, 4.0, 4.0, 4.0, 4.0, 4.0, 4.0, 4.0, 4.0, 4.0, 4.0, 4.0, 4.0, 4.0, 4.0, 4.0, 4.0, 4.0, 4.0, 4.0, 4.0, 4.0, 4.0, 4.0]\n"
          ]
        }
      ]
    },
    {
      "cell_type": "markdown",
      "source": [],
      "metadata": {
        "id": "vGRQN7qKg5sT"
      }
    },
    {
      "cell_type": "markdown",
      "source": [
        "1) Write a Python code to create a list of first 10 odd elements without using decision making statements."
      ],
      "metadata": {
        "id": "V7kgYkqwg7Wv"
      }
    },
    {
      "cell_type": "code",
      "source": [
        "odd_numbers = [i for i in range(1, 20, 2)]\n",
        "print(odd_numbers)"
      ],
      "metadata": {
        "colab": {
          "base_uri": "https://localhost:8080/"
        },
        "id": "F_ot9gtShHOc",
        "outputId": "ae9bc932-2b5a-4fb4-e9ab-ccb829d32557"
      },
      "execution_count": null,
      "outputs": [
        {
          "output_type": "stream",
          "name": "stdout",
          "text": [
            "[1, 3, 5, 7, 9, 11, 13, 15, 17, 19]\n"
          ]
        }
      ]
    },
    {
      "cell_type": "markdown",
      "source": [
        "2) `Write a Python code to create a list of 1 to 10 elements and from the list created, create another list with only odd values.`"
      ],
      "metadata": {
        "id": "FaydafWihIfw"
      }
    },
    {
      "cell_type": "code",
      "source": [
        "list1=list(range(1,11))\n",
        "odd=list1[::2]\n",
        "print(list1)\n",
        "print(odd)"
      ],
      "metadata": {
        "colab": {
          "base_uri": "https://localhost:8080/"
        },
        "id": "YX_wHyGkinJ3",
        "outputId": "df4aa10a-35a8-4430-b775-4d4427c53988"
      },
      "execution_count": null,
      "outputs": [
        {
          "output_type": "stream",
          "name": "stdout",
          "text": [
            "[1, 2, 3, 4, 5, 6, 7, 8, 9, 10]\n",
            "[1, 3, 5, 7, 9]\n"
          ]
        }
      ]
    },
    {
      "cell_type": "code",
      "source": [
        "numbers = list(range(1, 11))\n",
        "odd_numbers = [num for num in numbers if num % 2 != 0]\n",
        "print(\"Original list:\", numbers)\n",
        "print(\"Odd numbers list:\", odd_numbers)"
      ],
      "metadata": {
        "colab": {
          "base_uri": "https://localhost:8080/"
        },
        "id": "0TPjSZB-hYOw",
        "outputId": "6143bd10-5206-48ac-e3d3-7510795f4867"
      },
      "execution_count": null,
      "outputs": [
        {
          "output_type": "stream",
          "name": "stdout",
          "text": [
            "Original list: [1, 2, 3, 4, 5, 6, 7, 8, 9, 10]\n",
            "Odd numbers list: [1, 3, 5, 7, 9]\n"
          ]
        }
      ]
    },
    {
      "cell_type": "markdown",
      "source": [
        "3) Write a Python code to create a list of 1 to 10 elements and from the list created, create another list with only even values."
      ],
      "metadata": {
        "id": "8_H86TSJhZRn"
      }
    },
    {
      "cell_type": "code",
      "source": [
        "even=list1[1::2]\n",
        "print(even)"
      ],
      "metadata": {
        "colab": {
          "base_uri": "https://localhost:8080/"
        },
        "id": "7AMF8VBkiz3V",
        "outputId": "4ccd6e86-e7b1-4e19-c37b-79dc20884e0b"
      },
      "execution_count": null,
      "outputs": [
        {
          "output_type": "stream",
          "name": "stdout",
          "text": [
            "[2, 4, 6, 8, 10]\n"
          ]
        }
      ]
    },
    {
      "cell_type": "code",
      "source": [
        "numbers = list(range(1, 11))\n",
        "even_numbers = [num for num in numbers if num % 2 == 0]\n",
        "print(\"Original list:\", numbers)\n",
        "print(\"Even numbers list:\", even_numbers)"
      ],
      "metadata": {
        "colab": {
          "base_uri": "https://localhost:8080/"
        },
        "id": "jZ9A0Aluhmzm",
        "outputId": "a616c1e1-0a01-4bc8-d9c3-96109c909df4"
      },
      "execution_count": null,
      "outputs": [
        {
          "output_type": "stream",
          "name": "stdout",
          "text": [
            "Original list: [1, 2, 3, 4, 5, 6, 7, 8, 9, 10]\n",
            "Even numbers list: [2, 4, 6, 8, 10]\n"
          ]
        }
      ]
    },
    {
      "cell_type": "markdown",
      "source": [
        "Concatenation"
      ],
      "metadata": {
        "id": "U-Pdmr_jjhJw"
      }
    },
    {
      "cell_type": "code",
      "source": [
        "list_1=['a','b','c','d']\n",
        "print(list_1)\n",
        "list_2=['Python','list']\n",
        "print(list_2)"
      ],
      "metadata": {
        "colab": {
          "base_uri": "https://localhost:8080/"
        },
        "id": "sKd8ppwqjmIq",
        "outputId": "61f8b3c7-6763-469c-c6d0-22b5459b1552"
      },
      "execution_count": null,
      "outputs": [
        {
          "output_type": "stream",
          "name": "stdout",
          "text": [
            "['a', 'b', 'c', 'd']\n",
            "['Python', 'list']\n"
          ]
        }
      ]
    },
    {
      "cell_type": "markdown",
      "source": [
        "Write a Python code to create a list, which extracts elements from the string given by user."
      ],
      "metadata": {
        "id": "glh5Sq0oj6Kg"
      }
    },
    {
      "cell_type": "code",
      "source": [
        "string = input(\"Enter a string: \")\n",
        "list_1 = list(string)\n",
        "print(list_1)"
      ],
      "metadata": {
        "colab": {
          "base_uri": "https://localhost:8080/"
        },
        "id": "gz3YAuxslASD",
        "outputId": "0d1d54f3-a453-4379-e87f-023484cfac06"
      },
      "execution_count": null,
      "outputs": [
        {
          "output_type": "stream",
          "name": "stdout",
          "text": [
            "Enter a string: Nanu\n",
            "['N', 'a', 'n', 'u']\n"
          ]
        }
      ]
    },
    {
      "cell_type": "markdown",
      "source": [
        "Write a Python program to get the input from the user for creating two lists and add the elements of one list into other."
      ],
      "metadata": {
        "id": "lk1dFI59lQIz"
      }
    },
    {
      "cell_type": "code",
      "source": [
        "def get_list_input(prompt):\n",
        "    print(prompt)\n",
        "    user_input = input(\"Enter elements (space-separated): \")\n",
        "    user_list = user_input.split()\n",
        "    return user_list\n",
        "\n",
        "\n",
        "list1 = get_list_input(\"Enter the elements for the first list:\")\n",
        "list2 = get_list_input(\"Enter the elements for the second list:\")\n",
        "\n",
        "list1.extend(list2)\n",
        "\n",
        "print(\"The updated list after adding elements of list2 to list1:\")\n",
        "print(list1)\n"
      ],
      "metadata": {
        "colab": {
          "base_uri": "https://localhost:8080/"
        },
        "id": "tXQ90T6dlDV2",
        "outputId": "a3ff00c1-474b-4d96-cff8-f6dca23cac51"
      },
      "execution_count": null,
      "outputs": [
        {
          "output_type": "stream",
          "name": "stdout",
          "text": [
            "Enter the elements for the first list:\n",
            "Enter elements (space-separated): 43\n",
            "Enter the elements for the second list:\n",
            "Enter elements (space-separated): 47\n",
            "\n",
            "The updated list after adding elements of list2 to list1:\n",
            "['43', '47']\n"
          ]
        }
      ]
    },
    {
      "cell_type": "code",
      "source": [],
      "metadata": {
        "id": "f5miaX3UlxMc"
      },
      "execution_count": null,
      "outputs": []
    }
  ]
}